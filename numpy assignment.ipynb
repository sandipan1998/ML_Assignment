{
 "cells": [
  {
   "cell_type": "markdown",
   "metadata": {},
   "source": [
    "## Q.1. Write a function so that the columns of the output matrix are powers of the input\n",
    "## vector.\n",
    "The order of the powers is determined by the increasing boolean argument. Specifically, when\n",
    "increasing is False, the i-th output column is the input vector raised element-wise to the power\n",
    "of N - i - 1.\n",
    "HINT: Such a matrix with a geometric progression in each row is named for Alexandre-\n",
    "Theophile Vandermonde."
   ]
  },
  {
   "cell_type": "code",
   "execution_count": 1,
   "metadata": {},
   "outputs": [],
   "source": [
    "import numpy as np"
   ]
  },
  {
   "cell_type": "code",
   "execution_count": 52,
   "metadata": {},
   "outputs": [],
   "source": [
    "def Alexandre_Theophile(vector,number_of_column):\n",
    "    \"\"\"\n",
    "    Docstring(vector,number_of_column)\n",
    "    returns columns of the output matrix are powers of the input\n",
    "    vector\n",
    "    \n",
    "    parameters:\n",
    "    ------------\n",
    "    vector: accept any vector\n",
    "    number_of_column: accept the number of column should be available for output matrix\n",
    "    \n",
    "    \"\"\"\n",
    "    #extracting the row and columns of output matrix\n",
    "    rows,cols=len(vector),number_of_column\n",
    "    \n",
    "    #creating a matrix which has element 0. matrix dimension will be defined by above rows and cols\n",
    "    matrix=np.mat(np.zeros((rows,cols)),dtype=np.int64)\n",
    "    \n",
    "    #calculating the number of element present in vector\n",
    "    no_of_element_of_vector=len(vector)\n",
    "    \n",
    "    \n",
    "    for i in range(cols):\n",
    "        power=cols-i-1\n",
    "        #print(\"power\",power)\n",
    "        for j in range(no_of_element_of_vector):\n",
    "            #print(vector[j],vector[j]**power)\n",
    "            \n",
    "            matrix[j,i]=int(vector[j]**power)\n",
    "            #print(matrix[j,i])\n",
    "        #print(matrix)\n",
    "    return matrix\n",
    "    "
   ]
  },
  {
   "cell_type": "code",
   "execution_count": 54,
   "metadata": {},
   "outputs": [
    {
     "data": {
      "text/plain": [
       "matrix([[6561,  729,   81,    9,    1],\n",
       "        [2401,  343,   49,    7,    1],\n",
       "        [ 625,  125,   25,    5,    1],\n",
       "        [ 256,   64,   16,    4,    1]])"
      ]
     },
     "execution_count": 54,
     "metadata": {},
     "output_type": "execute_result"
    }
   ],
   "source": [
    "Alexandre_Theophile(vector=[9,7,5,4],number_of_column=5)"
   ]
  },
  {
   "cell_type": "markdown",
   "metadata": {},
   "source": [
    "# Problem Statement 2: \n",
    "</br>\n",
    "\n",
    "## Given a sequence of n values x1, x2, ..., xn and a window size k>0, the k-th moving average of the given sequence is defined as follows:\n",
    "\n",
    "\n",
    "### The moving average sequence has n-k+1 elements as shown below.\n",
    "### The moving averages with k=4 of a ten-value sequence (n=10) is shown below\n",
    "\n",
    "i 1 2 3 4 5 6 7 8 9 10\n",
    "\n",
    "</br>\n",
    "===== == == == == == == == == == ==\n",
    "\n",
    "</br>\n",
    "\n",
    "Input 10 20 30 40 50 60 70 80 90 100\n",
    "\n",
    "</br>\n",
    "\n",
    "\n",
    "y1 25 = (10+20+30+40)/4\n",
    "\n",
    "</br>\n",
    "\n",
    "y2 35 = (20+30+40+50)/4\n",
    "\n",
    "</br>\n",
    "\n",
    "y3 45 = (30+40+50+60)/4\n",
    "\n",
    "</br>\n",
    "\n",
    "y4 55 = (40+50+60+70)/4\n",
    "\n",
    "</br>\n",
    "\n",
    "y5 65 = (50+60+70+80)/4\n",
    "\n",
    "</br>\n",
    "\n",
    "y6 75 = (60+70+80+90)/4\n",
    "\n",
    "</br>\n",
    "\n",
    "y7 85 = (70+80+90+100)/4\n",
    "\n",
    "</br>\n",
    "\n",
    "### Thus, the moving average sequence has n-k+1=10-4+1=7 values.\n",
    "\n",
    "## Question: \n",
    "### Write a function to find moving average in an array over a window:\n",
    "#### Test it over [3, 5, 7, 2, 8, 10, 11, 65, 72, 81, 99, 100, 150] and window of 3."
   ]
  },
  {
   "cell_type": "code",
   "execution_count": 138,
   "metadata": {},
   "outputs": [],
   "source": [
    "input_array=[3, 5, 7, 2, 8, 10, 11, 65, 72, 81, 99, 100, 150]\n",
    "#input_array=np.arange(10,110,10)\n",
    "k=3"
   ]
  },
  {
   "cell_type": "code",
   "execution_count": 139,
   "metadata": {},
   "outputs": [
    {
     "data": {
      "text/plain": [
       "[3, 5, 7, 2, 8, 10, 11, 65, 72, 81, 99, 100, 150]"
      ]
     },
     "execution_count": 139,
     "metadata": {},
     "output_type": "execute_result"
    }
   ],
   "source": [
    "input_array"
   ]
  },
  {
   "cell_type": "code",
   "execution_count": 140,
   "metadata": {},
   "outputs": [],
   "source": [
    "n=len(input_array)"
   ]
  },
  {
   "cell_type": "code",
   "execution_count": 141,
   "metadata": {},
   "outputs": [],
   "source": [
    "moving_array_sequence_has_value=n-k+1"
   ]
  },
  {
   "cell_type": "code",
   "execution_count": 142,
   "metadata": {},
   "outputs": [
    {
     "data": {
      "text/plain": [
       "11"
      ]
     },
     "execution_count": 142,
     "metadata": {},
     "output_type": "execute_result"
    }
   ],
   "source": [
    "moving_array_sequence_has_value"
   ]
  },
  {
   "cell_type": "code",
   "execution_count": 143,
   "metadata": {},
   "outputs": [],
   "source": [
    "output_array=np.zeros((moving_array_sequence_has_value,1)).flatten()"
   ]
  },
  {
   "cell_type": "code",
   "execution_count": 144,
   "metadata": {},
   "outputs": [
    {
     "data": {
      "text/plain": [
       "array([0., 0., 0., 0., 0., 0., 0., 0., 0., 0., 0.])"
      ]
     },
     "execution_count": 144,
     "metadata": {},
     "output_type": "execute_result"
    }
   ],
   "source": [
    "output_array"
   ]
  },
  {
   "cell_type": "code",
   "execution_count": 145,
   "metadata": {},
   "outputs": [
    {
     "name": "stdout",
     "output_type": "stream",
     "text": [
      "y1 5.00 = (3+5+7)/3\n",
      "\n",
      "y2 4.67 = (5+7+2)/3\n",
      "\n",
      "y3 5.67 = (7+2+8)/3\n",
      "\n",
      "y4 6.67 = (2+8+10)/3\n",
      "\n",
      "y5 9.67 = (8+10+11)/3\n",
      "\n",
      "y6 28.67 = (10+11+65)/3\n",
      "\n",
      "y7 49.33 = (11+65+72)/3\n",
      "\n",
      "y8 72.67 = (65+72+81)/3\n",
      "\n",
      "y9 84.00 = (72+81+99)/3\n",
      "\n",
      "y10 93.33 = (81+99+100)/3\n",
      "\n",
      "y11 116.33 = (99+100+150)/3\n",
      "\n"
     ]
    }
   ],
   "source": [
    "for i in range(moving_array_sequence_has_value):\n",
    "    text=\"(\"\n",
    "    for j in range(k):\n",
    "        text=text+str(input_array[i+j])+'+'\n",
    "        output_array[i]=output_array[i]+input_array[i+j]\n",
    "    output_array[i]=output_array[i]/k\n",
    "    text=text+\")\"\n",
    "    print('y'+str(i+1),\"{:.2f}\".format(output_array[i]),\"=\",text[0:len(text)-2]+')/'+str(k),end=\"\\n\\n\")\n",
    "#print(output_array)"
   ]
  },
  {
   "cell_type": "code",
   "execution_count": 146,
   "metadata": {},
   "outputs": [
    {
     "data": {
      "text/plain": [
       "array([  5.        ,   4.66666667,   5.66666667,   6.66666667,\n",
       "         9.66666667,  28.66666667,  49.33333333,  72.66666667,\n",
       "        84.        ,  93.33333333, 116.33333333])"
      ]
     },
     "execution_count": 146,
     "metadata": {},
     "output_type": "execute_result"
    }
   ],
   "source": [
    "output_array"
   ]
  },
  {
   "cell_type": "code",
   "execution_count": null,
   "metadata": {},
   "outputs": [],
   "source": []
  }
 ],
 "metadata": {
  "kernelspec": {
   "display_name": "Python 3",
   "language": "python",
   "name": "python3"
  },
  "language_info": {
   "codemirror_mode": {
    "name": "ipython",
    "version": 3
   },
   "file_extension": ".py",
   "mimetype": "text/x-python",
   "name": "python",
   "nbconvert_exporter": "python",
   "pygments_lexer": "ipython3",
   "version": "3.8.3"
  }
 },
 "nbformat": 4,
 "nbformat_minor": 4
}
